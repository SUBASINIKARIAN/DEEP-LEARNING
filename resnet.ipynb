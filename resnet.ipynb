{
  "cells": [
    {
      "cell_type": "code",
      "execution_count": null,
      "metadata": {
        "colab": {
          "base_uri": "https://localhost:8080/"
        },
        "id": "L1Vcmz1tLbZc",
        "outputId": "a6009268-64ab-4ecb-dea3-87f657c25272"
      },
      "outputs": [
        {
          "name": "stderr",
          "output_type": "stream",
          "text": [
            "/usr/local/lib/python3.9/dist-packages/torchvision/models/_utils.py:208: UserWarning: The parameter 'pretrained' is deprecated since 0.13 and may be removed in the future, please use 'weights' instead.\n",
            "  warnings.warn(\n",
            "/usr/local/lib/python3.9/dist-packages/torchvision/models/_utils.py:223: UserWarning: Arguments other than a weight enum or `None` for 'weights' are deprecated since 0.13 and may be removed in the future. The current behavior is equivalent to passing `weights=ResNet50_Weights.IMAGENET1K_V1`. You can also use `weights=ResNet50_Weights.DEFAULT` to get the most up-to-date weights.\n",
            "  warnings.warn(msg)\n",
            "Downloading: \"https://download.pytorch.org/models/resnet50-0676ba61.pth\" to /root/.cache/torch/hub/checkpoints/resnet50-0676ba61.pth\n",
            "100%|██████████| 97.8M/97.8M [00:00<00:00, 310MB/s]\n"
          ]
        },
        {
          "name": "stdout",
          "output_type": "stream",
          "text": [
            "Accuracy of the network on the test images: 39 %\n",
            "Accuracy of the network on the test images: 53 %\n",
            "Accuracy of the network on the test images: 46 %\n",
            "Accuracy of the network on the test images: 53 %\n",
            "Accuracy of the network on the test images: 56 %\n",
            "Accuracy of the network on the test images: 56 %\n",
            "Accuracy of the network on the test images: 59 %\n",
            "Accuracy of the network on the test images: 59 %\n",
            "Accuracy of the network on the test images: 59 %\n",
            "Accuracy of the network on the test images: 60 %\n",
            "Finished Training\n"
          ]
        }
      ],
      "source": [
        "import torch\n",
        "import torchvision\n",
        "from torchvision import datasets, transforms\n",
        "from torch.utils.tensorboard import SummaryWriter\n",
        "\n",
        "# Define data transforms\n",
        "data_transforms = transforms.Compose([\n",
        "        transforms.Resize(256),\n",
        "        transforms.CenterCrop(224),\n",
        "        transforms.ToTensor(),\n",
        "        transforms.Normalize([0.485, 0.456, 0.406], [0.229, 0.224, 0.225])\n",
        "    ])\n",
        "\n",
        "# Load train and test data\n",
        "train_data = datasets.ImageFolder('/content/drive/MyDrive/Covid19-dataset/train', transform=data_transforms)\n",
        "test_data = datasets.ImageFolder('/content/drive/MyDrive/Covid19-dataset/test', transform=data_transforms)\n",
        "\n",
        "# Create data loaders\n",
        "train_loader = torch.utils.data.DataLoader(train_data, batch_size=32, shuffle=True)\n",
        "test_loader = torch.utils.data.DataLoader(test_data, batch_size=32, shuffle=False)\n",
        "\n",
        "# Load pre-trained ResNet50\n",
        "model = torchvision.models.resnet50(pretrained=True)\n",
        "\n",
        "# Freeze all layers except the last fully connected layer and the layers in the final residual block\n",
        "for param in model.parameters():\n",
        "    param.requires_grad = False\n",
        "    \n",
        "for param in model.layer4.parameters():\n",
        "    param.requires_grad = True\n",
        "    \n",
        "for param in model.fc.parameters():\n",
        "    param.requires_grad = True\n",
        "    \n",
        "# Modify last fully connected layer to match number of classes\n",
        "model.fc = torch.nn.Linear(2048, 10)\n",
        "\n",
        "# Define loss function and optimizer\n",
        "criterion = torch.nn.CrossEntropyLoss()\n",
        "optimizer = torch.optim.SGD(model.parameters(), lr=0.001, momentum=0.9)\n",
        "\n",
        "# Initialize tensorboard writer\n",
        "writer = SummaryWriter('logs')\n",
        "\n",
        "# Train the model\n",
        "for epoch in range(10):\n",
        "    running_loss = 0.0\n",
        "    for i, data in enumerate(train_loader, 0):\n",
        "        # Get inputs and labels\n",
        "        inputs, labels = data\n",
        "        \n",
        "        # Zero the parameter gradients\n",
        "        optimizer.zero_grad()\n",
        "        \n",
        "        # Forward + backward + optimize\n",
        "        outputs = model(inputs)\n",
        "        loss = criterion(outputs, labels)\n",
        "        loss.backward()\n",
        "        optimizer.step()\n",
        "        \n",
        "        # Print statistics\n",
        "        running_loss += loss.item()\n",
        "        if i % 10 == 9:    # print every 10 mini-batches\n",
        "            print('[%d, %5d] loss: %.3f' %\n",
        "                  (epoch + 1, i + 1, running_loss / 10))\n",
        "            writer.add_scalar('training loss', running_loss / 10, epoch * len(train_loader) + i)\n",
        "            running_loss = 0.0\n",
        "\n",
        "    # Test the model\n",
        "    correct = 0\n",
        "    total = 0\n",
        "    with torch.no_grad():\n",
        "        for data in test_loader:\n",
        "            images, labels = data\n",
        "            outputs = model(images)\n",
        "            _, predicted = torch.max(outputs.data, 1)\n",
        "            total += labels.size(0)\n",
        "            correct += (predicted == labels).sum().item()\n",
        "\n",
        "    print('Accuracy of the network on the test images: %d %%' % (\n",
        "        100 * correct / total))\n",
        "    writer.add_scalar('test accuracy', 100 * correct / total, epoch)\n",
        "\n",
        "print('Finished Training')\n",
        "\n",
        "# Save the trained model\n",
        "torch.save(model.state_dict(), 'resnet.pth')\n",
        "\n",
        "# Close tensorboard writer\n",
        "writer.close()\n"
      ]
    }
  ],
  "metadata": {
    "accelerator": "GPU",
    "colab": {
      "provenance": []
    },
    "gpuClass": "standard",
    "kernelspec": {
      "display_name": "Python 3",
      "name": "python3"
    },
    "language_info": {
      "name": "python"
    }
  },
  "nbformat": 4,
  "nbformat_minor": 0
}
