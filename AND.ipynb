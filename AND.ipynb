{
 "cells": [
  {
   "cell_type": "code",
   "execution_count": 1,
   "metadata": {},
   "outputs": [
    {
     "name": "stdout",
     "output_type": "stream",
     "text": [
      "^C\n",
      "Note: you may need to restart the kernel to use updated packages.\n"
     ]
    }
   ],
   "source": [
    "pip install torch"
   ]
  },
  {
   "cell_type": "code",
   "execution_count": 1,
   "metadata": {},
   "outputs": [],
   "source": [
    "\n",
    "import numpy as np\n",
    "import matplotlib.pyplot as plt\n",
    "import torch\n",
    "import tensorflow as tf"
   ]
  },
  {
   "cell_type": "code",
   "execution_count": 2,
   "metadata": {},
   "outputs": [],
   "source": [
    "def activation(out,threshold):\n",
    "    if out>threshold:\n",
    "        return 1\n",
    "    else:\n",
    "        return -1"
   ]
  },
  {
   "cell_type": "code",
   "execution_count": 3,
   "metadata": {},
   "outputs": [],
   "source": [
    "def perceptron(and_input):\n",
    "    a=[-1,-1,1,1]\n",
    "    b=[-1,1,-1,1]\n",
    "    y=[-1,-1,-1,1]\n",
    "    w=[0.1,0.1]\n",
    "    threshold=1\n",
    "    learning_rate = 0.5\n",
    "    bias=[0,0]\n",
    "    i=0\n",
    "    print(\"Perceptron Training:\")\n",
    "    while i<4:\n",
    "        summation=a[i]*w[0]+b[i]*w[1]\n",
    "        o=activation(summation,threshold)\n",
    "        print(\"Input:\"+str(a[i])+\",\"+str(b[i]))\n",
    "        print(\"Weights:\"+str(w[0])+\",\"+str(w[1]))\n",
    "        print(\"summation:\"+str(summation)+\"\\n\"+\"threshold\"+\" \"+str(threshold))\n",
    "        print(\"Actual Output:\"+str(y[i])+\"Predicted Output\"+str(o))\n",
    "        if(o!=y):\n",
    "            #w=w+leaening_rate(actual_output - predicted_output)*input\n",
    "            for j in range(2):\n",
    "                w[j]=w[j]+learning_rate*(y[i]-o)*a[i]\n",
    "                j+=1\n",
    "            bias[0]+=learning_rate*(y[i]-o)\n",
    "            print(\"Updated Weights:\"+str(w[0])+\",\"+str(w[1]))\n",
    "        i=i+1\n",
    "    summation=and_input[0]*w[0]+and_input[1]*w[1]   \n",
    "    output = activation(summation,threshold)\n",
    "    return output\n",
    "\n",
    "\n"
   ]
  },
  {
   "cell_type": "code",
   "execution_count": 4,
   "metadata": {},
   "outputs": [
    {
     "name": "stdout",
     "output_type": "stream",
     "text": [
      "Perceptron Training:\n",
      "Input:-1,-1\n",
      "Weights:0.1,0.1\n",
      "summation:-0.2\n",
      "threshold 1\n",
      "Actual Output:-1Predicted Output-1\n",
      "Updated Weights:0.1,0.1\n",
      "Input:-1,1\n",
      "Weights:0.1,0.1\n",
      "summation:0.0\n",
      "threshold 1\n",
      "Actual Output:-1Predicted Output-1\n",
      "Updated Weights:0.1,0.1\n",
      "Input:1,-1\n",
      "Weights:0.1,0.1\n",
      "summation:0.0\n",
      "threshold 1\n",
      "Actual Output:-1Predicted Output-1\n",
      "Updated Weights:0.1,0.1\n",
      "Input:1,1\n",
      "Weights:0.1,0.1\n",
      "summation:0.2\n",
      "threshold 1\n",
      "Actual Output:1Predicted Output-1\n",
      "Updated Weights:1.1,1.1\n",
      "AND GATE OUTPUT FOR[-1, 1]:-1\n"
     ]
    }
   ],
   "source": [
    "and_input=[-1,1]\n",
    "print(\"AND GATE OUTPUT FOR\"+str(and_input)+\":\"+str(perceptron(and_input)))"
   ]
  },
  {
   "cell_type": "code",
   "execution_count": null,
   "metadata": {},
   "outputs": [],
   "source": []
  },
  {
   "cell_type": "code",
   "execution_count": null,
   "metadata": {},
   "outputs": [],
   "source": []
  },
  {
   "cell_type": "code",
   "execution_count": null,
   "metadata": {},
   "outputs": [],
   "source": []
  },
  {
   "cell_type": "code",
   "execution_count": null,
   "metadata": {},
   "outputs": [],
   "source": []
  },
  {
   "cell_type": "code",
   "execution_count": null,
   "metadata": {},
   "outputs": [],
   "source": []
  }
 ],
 "metadata": {
  "kernelspec": {
   "display_name": "base",
   "language": "python",
   "name": "python3"
  },
  "language_info": {
   "codemirror_mode": {
    "name": "ipython",
    "version": 3
   },
   "file_extension": ".py",
   "mimetype": "text/x-python",
   "name": "python",
   "nbconvert_exporter": "python",
   "pygments_lexer": "ipython3",
   "version": "3.9.7"
  },
  "orig_nbformat": 4,
  "vscode": {
   "interpreter": {
    "hash": "20283fe50569640ce6993bbef4448865d80db8d227d78093b0242749fcc5e74d"
   }
  }
 },
 "nbformat": 4,
 "nbformat_minor": 2
}
