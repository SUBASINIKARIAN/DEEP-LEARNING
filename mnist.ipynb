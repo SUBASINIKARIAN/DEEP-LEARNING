{
 "cells": [
  {
   "cell_type": "code",
   "execution_count": 3,
   "metadata": {},
   "outputs": [
    {
     "data": {
      "image/png": "[encoded data removed]",
      "text/plain": [
       "<Figure size 432x288 with 1 Axes>"
      ]
     },
     "metadata": {
      "needs_background": "light"
     },
     "output_type": "display_data"
    },
    {
     "data": {
      "image/png": "[encoded data removed]",
      "text/plain": [
       "<Figure size 432x288 with 1 Axes>"
      ]
     },
     "metadata": {
      "needs_background": "light"
     },
     "output_type": "display_data"
    },
    {
     "data": {
      "image/png": "[encoded data removed]",
      "text/plain": [
       "<Figure size 432x288 with 1 Axes>"
      ]
     },
     "metadata": {
      "needs_background": "light"
     },
     "output_type": "display_data"
    },
    {
     "data": {
      "image/png": "[encoded data removed]",
      "text/plain": [
       "<Figure size 432x288 with 1 Axes>"
      ]
     },
     "metadata": {
      "needs_background": "light"
     },
     "output_type": "display_data"
    },
    {
     "data": {
      "image/png": "[encoded data removed]",
      "text/plain": [
       "<Figure size 432x288 with 1 Axes>"
      ]
     },
     "metadata": {
      "needs_background": "light"
     },
     "output_type": "display_data"
    },
    {
     "name": "stdout",
     "output_type": "stream",
     "text": [
      "[1] Loss: 1.5915703177452087\n",
      "[2] Loss: 0.6211171194911003\n",
      "[3] Loss: 0.4204297438263893\n",
      "[4] Loss: 0.3213957779109478\n",
      "[5] Loss: 0.26706902757287027\n",
      "[6] Loss: 0.23289375007152557\n",
      "[7] Loss: 0.20831482410430907\n",
      "[8] Loss: 0.18813345357775688\n",
      "[9] Loss: 0.172143529728055\n",
      "[10] Loss: 0.1593436785042286\n",
      "[11] Loss: 0.14415905997157097\n",
      "[12] Loss: 0.1388155546039343\n",
      "[13] Loss: 0.12937890514731407\n",
      "[14] Loss: 0.12389107942581176\n",
      "[15] Loss: 0.11562215462327004\n",
      "[16] Loss: 0.11048613339662552\n",
      "[17] Loss: 0.10424517188221216\n",
      "[18] Loss: 0.10121560003608465\n",
      "[19] Loss: 0.09690531995147467\n",
      "[20] Loss: 0.09252563882619143\n",
      "[21] Loss: 0.09076363351196051\n",
      "[22] Loss: 0.08482068050652743\n",
      "[23] Loss: 0.08077390175312757\n",
      "[24] Loss: 0.0803065225481987\n",
      "[25] Loss: 0.07943080551922321\n",
      "[26] Loss: 0.0756829084828496\n",
      "[27] Loss: 0.07354007717221975\n",
      "[28] Loss: 0.07025778451934457\n",
      "[29] Loss: 0.06616480061784387\n",
      "[30] Loss: 0.0666648892685771\n",
      "[31] Loss: 0.06479434296488762\n",
      "[32] Loss: 0.06273842044174671\n",
      "[33] Loss: 0.05883660428225994\n",
      "[34] Loss: 0.058368804305791853\n",
      "[35] Loss: 0.056442870385944845\n",
      "[36] Loss: 0.05390530657023192\n",
      "[37] Loss: 0.05330290040001273\n",
      "[38] Loss: 0.05278089130297303\n",
      "[39] Loss: 0.0514264645986259\n",
      "[40] Loss: 0.04983765697106719\n",
      "[41] Loss: 0.04910926092416048\n",
      "[42] Loss: 0.04649964952841401\n",
      "[43] Loss: 0.04668283825740218\n",
      "[44] Loss: 0.043893813528120516\n",
      "[45] Loss: 0.04432647195644677\n",
      "[46] Loss: 0.04395577004179359\n",
      "[47] Loss: 0.041927036456763746\n",
      "[48] Loss: 0.04095006729476154\n",
      "[49] Loss: 0.04127741977572441\n",
      "[50] Loss: 0.03982232948765159\n",
      "[51] Loss: 0.03863549781963229\n",
      "[52] Loss: 0.03691254216246307\n",
      "[53] Loss: 0.03627238608896732\n",
      "[54] Loss: 0.036633143573999404\n",
      "[55] Loss: 0.03495735446922481\n",
      "[56] Loss: 0.034811881557106975\n",
      "[57] Loss: 0.03366631474345923\n",
      "[58] Loss: 0.03252933803014457\n",
      "[59] Loss: 0.03251938237808645\n",
      "[60] Loss: 0.03161820489913225\n",
      "[61] Loss: 0.0316602261736989\n",
      "[62] Loss: 0.03077257317490876\n",
      "[63] Loss: 0.03057004353031516\n",
      "[64] Loss: 0.029237517388537526\n",
      "[65] Loss: 0.029133707331493498\n",
      "[66] Loss: 0.028656364372000098\n",
      "[67] Loss: 0.028050965862348676\n",
      "[68] Loss: 0.028143679187633098\n",
      "[69] Loss: 0.02671204721555114\n",
      "[70] Loss: 0.02653157296590507\n",
      "[71] Loss: 0.026889498066157102\n",
      "[72] Loss: 0.026268702838569878\n",
      "[73] Loss: 0.025351072708144785\n",
      "[74] Loss: 0.025376837840303777\n",
      "[75] Loss: 0.02416308782994747\n",
      "[76] Loss: 0.024442310677841306\n",
      "[77] Loss: 0.024035604018718005\n",
      "[78] Loss: 0.02361262103077024\n",
      "[79] Loss: 0.022735897498205305\n",
      "[80] Loss: 0.022852947330102326\n",
      "[81] Loss: 0.022168366611003874\n",
      "[82] Loss: 0.021899792295880616\n",
      "[83] Loss: 0.021308072796091437\n",
      "[84] Loss: 0.02162678139284253\n",
      "[85] Loss: 0.021398010244593025\n",
      "[86] Loss: 0.02056932239793241\n",
      "[87] Loss: 0.02056494844146073\n",
      "[88] Loss: 0.01978957178071141\n",
      "[89] Loss: 0.020345838833600284\n",
      "[90] Loss: 0.019712255941703914\n",
      "[91] Loss: 0.019666605396196246\n",
      "[92] Loss: 0.01881587505340576\n",
      "[93] Loss: 0.018691916763782502\n",
      "[94] Loss: 0.01825132898520678\n",
      "[95] Loss: 0.018299282109364868\n",
      "[96] Loss: 0.01805677209049463\n",
      "[97] Loss: 0.017995210457593204\n",
      "[98] Loss: 0.017704999167472125\n",
      "[99] Loss: 0.017589523713104425\n",
      "[100] Loss: 0.01713954135775566\n"
     ]
    }
   ],
   "source": [
    "import torch\n",
    "import torch.nn as nn\n",
    "import torch.optim as optim\n",
    "from torch.utils.data import DataLoader, TensorDataset\n",
    "import matplotlib.pyplot as plt\n",
    "import numpy as np\n",
    "\n",
    "# Load the dataset and perform exploratory data analysis\n",
    "from sklearn.datasets import load_digits\n",
    "from sklearn.model_selection import train_test_split\n",
    "digits = load_digits()\n",
    "\n",
    "# Plot some examples of the images\n",
    "for i in range(5):\n",
    "    plt.imshow(digits.images[i], cmap='gray')\n",
    "    plt.title(f\"Label: {digits.target[i]}\")\n",
    "    plt.show()\n",
    "\n",
    "# Prepare the data for training\n",
    "X = digits.images.reshape(-1, 64)\n",
    "y = digits.target\n",
    "X_train, X_test, y_train, y_test = train_test_split(X, y, test_size=0.3, random_state=42)\n",
    "train_dataset = TensorDataset(torch.tensor(X_train, dtype=torch.float32), torch.tensor(y_train, dtype=torch.long))\n",
    "test_dataset = TensorDataset(torch.tensor(X_test, dtype=torch.float32), torch.tensor(y_test, dtype=torch.long))\n",
    "train_loader = DataLoader(train_dataset, batch_size=64, shuffle=True)\n",
    "test_loader = DataLoader(test_dataset, batch_size=64, shuffle=False)\n",
    "\n",
    "# Define the model\n",
    "class MLP(nn.Module):\n",
    "    def __init__(self):\n",
    "        super().__init__()\n",
    "        self.fc1 = nn.Linear(64, 128)\n",
    "        self.fc2 = nn.Linear(128, 10)\n",
    "        self.relu = nn.ReLU()\n",
    "        self.softmax = nn.LogSoftmax(dim=1)\n",
    "        \n",
    "    def forward(self, x):\n",
    "        x = self.fc1(x)\n",
    "        x = self.relu(x)\n",
    "        x = self.fc2(x)\n",
    "        x = self.softmax(x)\n",
    "        return x\n",
    "\n",
    "# Train the model\n",
    "model = MLP()\n",
    "criterion = nn.NLLLoss()\n",
    "optimizer = optim.SGD(model.parameters(), lr=0.01)\n",
    "\n",
    "for epoch in range(100):\n",
    "    running_loss = 0.0\n",
    "    for i, data in enumerate(train_loader, 0):\n",
    "        inputs, labels = data\n",
    "        optimizer.zero_grad()\n",
    "        outputs = model(inputs)\n",
    "        loss = criterion(outputs, labels)\n",
    "        loss.backward()\n",
    "        optimizer.step()\n",
    "        running_loss += loss.item()\n",
    "    print(f\"[{epoch + 1}] Loss: {running_loss / (i + 1)}\")\n",
    "\n",
    "# Evaluate the model on the test data\n",
    "correct = 0\n",
    "total = 0\n",
    "with torch.no_grad():\n",
    "    for data in test_loader:\n",
    "        inputs, labels = data\n",
    "        outputs = model"
   ]
  },
  {
   "cell_type": "code",
   "execution_count": 7,
   "metadata": {},
   "outputs": [
    {
     "data": {
      "image/png": "[encoded data removed]",
      "text/plain": [
       "<Figure size 432x288 with 1 Axes>"
      ]
     },
     "metadata": {
      "needs_background": "light"
     },
     "output_type": "display_data"
    }
   ],
   "source": [
    "import matplotlib.pyplot as plt\n",
    "\n",
    "epochs = range(len(loss))\n",
    "\n",
    "plt.plot(epochs, 'b', label='Training Loss')\n",
    "\n",
    "plt.title('Training Loss')\n",
    "plt.xlabel('Epoch')\n",
    "plt.ylabel('Loss')\n",
    "\n",
    "plt.legend()\n",
    "\n",
    "plt.show()\n"
   ]
  }
 ],
 "metadata": {
  "kernelspec": {
   "display_name": "base",
   "language": "python",
   "name": "python3"
  },
  "language_info": {
   "name": "python",
   "version": "3.9.7"
  },
  "orig_nbformat": 4,
  "vscode": {
   "interpreter": {
    "hash": "20283fe50569640ce6993bbef4448865d80db8d227d78093b0242749fcc5e74d"
   }
  }
 },
 "nbformat": 4,
 "nbformat_minor": 2
}
